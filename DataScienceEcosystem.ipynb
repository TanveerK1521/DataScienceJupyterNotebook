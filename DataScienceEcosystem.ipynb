{
 "cells": [
  {
   "cell_type": "markdown",
   "id": "9d0130ca-1284-49db-9acc-3d692f58a3ff",
   "metadata": {},
   "source": [
    "# Data Science Tools and Ecosystem  \n",
    "\n"
   ]
  },
  {
   "cell_type": "markdown",
   "id": "8dde3d9c-c445-49f6-9383-db833a487e95",
   "metadata": {},
   "source": [
    "In this notebook, Data Science Tools and Ecosystem are summarized.\r\n",
    "\n"
   ]
  },
  {
   "cell_type": "markdown",
   "id": "7e5582c2-44f0-4015-af76-aa789dfa6cf5",
   "metadata": {},
   "source": [
    "**Objectives:**  \n",
    "- List of popular languages and libraries for Data Science\n",
    "- Create and evaluate arithmetic expression in Python\n",
    "- Convert Minutes to hours"
   ]
  },
  {
   "cell_type": "markdown",
   "id": "0db74c2c-0aa4-4cc9-95cc-90670c2266fb",
   "metadata": {},
   "source": [
    "Some of the popular languages that Data Scientists use are:  \n",
    "1. Python\n",
    "2. R\n",
    "3. SQL\n",
    "4. SAS"
   ]
  },
  {
   "cell_type": "markdown",
   "id": "3b8e0331-1982-4343-88e8-3f2e03e24482",
   "metadata": {},
   "source": [
    " Some of the commonly used libraries used by Data Scientists include:  \n",
    " 1. Numpy\n",
    " 2. Pandas\n",
    " 3. Matplotlib\n",
    " 4. Seaborn\n",
    " 5. Scikit- Learn\n",
    " 6. TensorFlow\n",
    " 7. Keras\n",
    " 8. Pytorch\n",
    " 9. Statsmodels\n",
    "     \n",
    "\n",
    "\r\n"
   ]
  },
  {
   "cell_type": "markdown",
   "id": "ceac452b-85fc-4046-a04c-1e87c8a117be",
   "metadata": {},
   "source": [
    "#### Data Science Tools  \n",
    "|Development Environment |  \n",
    "|------------------------|  \n",
    "|Jupyter Notebook|  \n",
    "|R studio|  \n",
    "|Visual Studio Code|  \n",
    "\n",
    "\n",
    "     |\r\n"
   ]
  },
  {
   "cell_type": "markdown",
   "id": "f32b5849-a3e1-4d7e-9464-31ec814d4951",
   "metadata": {},
   "source": [
    "### Below are a few examples of evaluating arithmetic expressions in Python\n"
   ]
  },
  {
   "cell_type": "code",
   "execution_count": 1,
   "id": "ac06b460-e35f-4951-a1ad-35c177705aaa",
   "metadata": {},
   "outputs": [
    {
     "data": {
      "text/plain": [
       "17"
      ]
     },
     "execution_count": 1,
     "metadata": {},
     "output_type": "execute_result"
    }
   ],
   "source": [
    "# This a simple arithmetic expression to mutiply then add integers.\n",
    "result = (3 * 4) + 5\n",
    "result\n"
   ]
  },
  {
   "cell_type": "code",
   "execution_count": 23,
   "id": "0c5150a7-2199-4733-a984-0b6c0a7f3ed4",
   "metadata": {},
   "outputs": [
    {
     "data": {
      "text/plain": [
       "3.3333333333333335"
      ]
     },
     "execution_count": 23,
     "metadata": {},
     "output_type": "execute_result"
    }
   ],
   "source": [
    "#This will convert 200 minutes to hours by diving by 60.\n",
    "minutes = 200\n",
    "hours = minutes / 60\n",
    "hours"
   ]
  },
  {
   "cell_type": "markdown",
   "id": "9ff72ecc-726a-4a24-b6ef-ea2754bdfa87",
   "metadata": {},
   "source": [
    "## Author  \n",
    "Tanveer Kaur"
   ]
  },
  {
   "cell_type": "code",
   "execution_count": null,
   "id": "a8065629-e2e7-42c2-a43a-3c38d259f75b",
   "metadata": {},
   "outputs": [],
   "source": []
  }
 ],
 "metadata": {
  "kernelspec": {
   "display_name": "Python 3 (ipykernel)",
   "language": "python",
   "name": "python3"
  },
  "language_info": {
   "codemirror_mode": {
    "name": "ipython",
    "version": 3
   },
   "file_extension": ".py",
   "mimetype": "text/x-python",
   "name": "python",
   "nbconvert_exporter": "python",
   "pygments_lexer": "ipython3",
   "version": "3.11.5"
  }
 },
 "nbformat": 4,
 "nbformat_minor": 5
}
